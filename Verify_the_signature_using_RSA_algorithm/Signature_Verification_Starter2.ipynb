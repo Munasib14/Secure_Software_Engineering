{
  "nbformat": 4,
  "nbformat_minor": 0,
  "metadata": {
    "colab": {
      "provenance": []
    },
    "kernelspec": {
      "name": "python3",
      "display_name": "Python 3"
    },
    "language_info": {
      "name": "python"
    }
  },
  "cells": [
    {
      "cell_type": "code",
      "execution_count": 1,
      "metadata": {
        "colab": {
          "base_uri": "https://localhost:8080/"
        },
        "id": "dE0mJxh9rtsP",
        "outputId": "355c34e9-352c-427d-801d-7badd5959df3"
      },
      "outputs": [
        {
          "output_type": "stream",
          "name": "stdout",
          "text": [
            "Looking in indexes: https://pypi.org/simple, https://us-python.pkg.dev/colab-wheels/public/simple/\n",
            "Requirement already satisfied: pycryptodome in /usr/local/lib/python3.9/dist-packages (3.17)\n"
          ]
        }
      ],
      "source": [
        "!pip install pycryptodome"
      ]
    },
    {
      "cell_type": "markdown",
      "source": [
        "To Generate private and public keys using RSA for signature verification \n",
        ".To sign a message with the private key and verify the signature with the public key,"
      ],
      "metadata": {
        "id": "rrClnnb7Baek"
      }
    },
    {
      "cell_type": "code",
      "source": [
        "from Crypto.PublicKey import RSA\n",
        "from Crypto.Signature import pkcs1_15\n",
        "from Crypto.Hash import SHA256\n",
        "\n",
        "# Generate RSA key pair with a key length of 2048 bits\n",
        "key = RSA.generate(2048)\n",
        "\n",
        "# Get the private key\n",
        "private_key = key.export_key()\n",
        "\n",
        "# Get the public key\n",
        "public_key = key.publickey().export_key()\n",
        "\n",
        "# Sign a message with the private key\n",
        "msg = b'This is a message for signature verification'\n",
        "hash = SHA256.new(msg)\n",
        "signer = pkcs1_15.new(RSA.import_key(private_key))\n",
        "signature = signer.sign(hash)\n",
        "# Verify the signature using the public key\n",
        "hash1 = SHA256.new(msg)\n",
        "verifier = pkcs1_15.new(RSA.import_key(public_key))\n",
        "try:\n",
        "    verifier.verify(hash1, signature)\n",
        "    print(\"The signature is authentic.\")\n",
        "except:\n",
        "    print(\"The signature is not authentic.\")\n",
        "\n",
        "\n",
        "\n"
      ],
      "metadata": {
        "id": "dRV0czGVBbHj",
        "colab": {
          "base_uri": "https://localhost:8080/"
        },
        "outputId": "e126b73c-2609-40dd-bf86-ddde50e68643"
      },
      "execution_count": 2,
      "outputs": [
        {
          "output_type": "stream",
          "name": "stdout",
          "text": [
            "The signature is authentic.\n"
          ]
        }
      ]
    },
    {
      "cell_type": "markdown",
      "source": [
        "To make some changes to the message or signature and then verify the signature, we can modify the message or signature and check whether it is authentic or not."
      ],
      "metadata": {
        "id": "0DPyHv85Puep"
      }
    },
    {
      "cell_type": "code",
      "source": [
        "msg = b'This is a message for signature verification (modified)'\n",
        "hash1 = SHA256.new(msg)\n",
        "verifier = pkcs1_15.new(RSA.import_key(public_key))\n",
        "try:\n",
        "    verifier.verify(hash1, signature)\n",
        "    print(\"The signature is authentic.\")\n",
        "except:\n",
        "    print(\"The signature is not authentic.\")\n"
      ],
      "metadata": {
        "colab": {
          "base_uri": "https://localhost:8080/"
        },
        "id": "sKCquhk_P4gL",
        "outputId": "6ae556fa-1d75-4e31-97f4-dd841f8cf3bd"
      },
      "execution_count": 3,
      "outputs": [
        {
          "output_type": "stream",
          "name": "stdout",
          "text": [
            "The signature is not authentic.\n"
          ]
        }
      ]
    }
  ]
}